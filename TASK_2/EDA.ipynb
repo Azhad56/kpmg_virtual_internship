{
 "cells": [
  {
   "cell_type": "markdown",
   "metadata": {},
   "source": [
    "# Exploratory Data Analysis"
   ]
  },
  {
   "cell_type": "code",
   "execution_count": 52,
   "metadata": {},
   "outputs": [],
   "source": [
    "import matplotlib.pyplot as plt\n",
    "import seaborn as sns\n",
    "import pandas as pd\n",
    "import numpy as np"
   ]
  },
  {
   "cell_type": "code",
   "execution_count": 53,
   "metadata": {},
   "outputs": [],
   "source": [
    "final_table = pd.read_csv('../output/final_table.csv')"
   ]
  },
  {
   "cell_type": "code",
   "execution_count": 54,
   "metadata": {},
   "outputs": [
    {
     "data": {
      "text/html": [
       "<div>\n",
       "<style scoped>\n",
       "    .dataframe tbody tr th:only-of-type {\n",
       "        vertical-align: middle;\n",
       "    }\n",
       "\n",
       "    .dataframe tbody tr th {\n",
       "        vertical-align: top;\n",
       "    }\n",
       "\n",
       "    .dataframe thead th {\n",
       "        text-align: right;\n",
       "    }\n",
       "</style>\n",
       "<table border=\"1\" class=\"dataframe\">\n",
       "  <thead>\n",
       "    <tr style=\"text-align: right;\">\n",
       "      <th></th>\n",
       "      <th>transaction_date</th>\n",
       "      <th>online_order</th>\n",
       "      <th>order_status</th>\n",
       "      <th>brand</th>\n",
       "      <th>product_line</th>\n",
       "      <th>product_class</th>\n",
       "      <th>product_size</th>\n",
       "      <th>list_price</th>\n",
       "      <th>standard_cost</th>\n",
       "      <th>gender</th>\n",
       "      <th>...</th>\n",
       "      <th>wealth_segment</th>\n",
       "      <th>deceased_indicator</th>\n",
       "      <th>owns_car</th>\n",
       "      <th>tenure</th>\n",
       "      <th>address</th>\n",
       "      <th>postcode</th>\n",
       "      <th>state</th>\n",
       "      <th>country</th>\n",
       "      <th>property_valuation</th>\n",
       "      <th>Age</th>\n",
       "    </tr>\n",
       "  </thead>\n",
       "  <tbody>\n",
       "    <tr>\n",
       "      <th>0</th>\n",
       "      <td>2017-02-25</td>\n",
       "      <td>0.0</td>\n",
       "      <td>Approved</td>\n",
       "      <td>Solex</td>\n",
       "      <td>Standard</td>\n",
       "      <td>medium</td>\n",
       "      <td>medium</td>\n",
       "      <td>71.49</td>\n",
       "      <td>53.62</td>\n",
       "      <td>Male</td>\n",
       "      <td>...</td>\n",
       "      <td>Mass Customer</td>\n",
       "      <td>N</td>\n",
       "      <td>Yes</td>\n",
       "      <td>10.0</td>\n",
       "      <td>984 Hoepker Court</td>\n",
       "      <td>3064</td>\n",
       "      <td>VIC</td>\n",
       "      <td>Australia</td>\n",
       "      <td>6</td>\n",
       "      <td>65.0</td>\n",
       "    </tr>\n",
       "    <tr>\n",
       "      <th>1</th>\n",
       "      <td>2017-10-16</td>\n",
       "      <td>0.0</td>\n",
       "      <td>Approved</td>\n",
       "      <td>Giant Bicycles</td>\n",
       "      <td>Standard</td>\n",
       "      <td>medium</td>\n",
       "      <td>medium</td>\n",
       "      <td>1403.50</td>\n",
       "      <td>954.82</td>\n",
       "      <td>Male</td>\n",
       "      <td>...</td>\n",
       "      <td>Mass Customer</td>\n",
       "      <td>N</td>\n",
       "      <td>Yes</td>\n",
       "      <td>10.0</td>\n",
       "      <td>984 Hoepker Court</td>\n",
       "      <td>3064</td>\n",
       "      <td>VIC</td>\n",
       "      <td>Australia</td>\n",
       "      <td>6</td>\n",
       "      <td>65.0</td>\n",
       "    </tr>\n",
       "    <tr>\n",
       "      <th>2</th>\n",
       "      <td>2017-04-26</td>\n",
       "      <td>0.0</td>\n",
       "      <td>Approved</td>\n",
       "      <td>Solex</td>\n",
       "      <td>Standard</td>\n",
       "      <td>medium</td>\n",
       "      <td>medium</td>\n",
       "      <td>478.16</td>\n",
       "      <td>298.72</td>\n",
       "      <td>Male</td>\n",
       "      <td>...</td>\n",
       "      <td>Mass Customer</td>\n",
       "      <td>N</td>\n",
       "      <td>Yes</td>\n",
       "      <td>10.0</td>\n",
       "      <td>984 Hoepker Court</td>\n",
       "      <td>3064</td>\n",
       "      <td>VIC</td>\n",
       "      <td>Australia</td>\n",
       "      <td>6</td>\n",
       "      <td>65.0</td>\n",
       "    </tr>\n",
       "    <tr>\n",
       "      <th>3</th>\n",
       "      <td>2017-05-21</td>\n",
       "      <td>1.0</td>\n",
       "      <td>Approved</td>\n",
       "      <td>Trek Bicycles</td>\n",
       "      <td>Standard</td>\n",
       "      <td>medium</td>\n",
       "      <td>large</td>\n",
       "      <td>2091.47</td>\n",
       "      <td>388.92</td>\n",
       "      <td>Female</td>\n",
       "      <td>...</td>\n",
       "      <td>Mass Customer</td>\n",
       "      <td>N</td>\n",
       "      <td>Yes</td>\n",
       "      <td>10.0</td>\n",
       "      <td>4 Shopko Circle</td>\n",
       "      <td>2196</td>\n",
       "      <td>NSW</td>\n",
       "      <td>Australia</td>\n",
       "      <td>5</td>\n",
       "      <td>41.0</td>\n",
       "    </tr>\n",
       "    <tr>\n",
       "      <th>4</th>\n",
       "      <td>2017-10-05</td>\n",
       "      <td>0.0</td>\n",
       "      <td>Approved</td>\n",
       "      <td>Giant Bicycles</td>\n",
       "      <td>Standard</td>\n",
       "      <td>high</td>\n",
       "      <td>medium</td>\n",
       "      <td>1129.13</td>\n",
       "      <td>677.48</td>\n",
       "      <td>Female</td>\n",
       "      <td>...</td>\n",
       "      <td>Mass Customer</td>\n",
       "      <td>N</td>\n",
       "      <td>Yes</td>\n",
       "      <td>10.0</td>\n",
       "      <td>4 Shopko Circle</td>\n",
       "      <td>2196</td>\n",
       "      <td>NSW</td>\n",
       "      <td>Australia</td>\n",
       "      <td>5</td>\n",
       "      <td>41.0</td>\n",
       "    </tr>\n",
       "  </tbody>\n",
       "</table>\n",
       "<p>5 rows × 23 columns</p>\n",
       "</div>"
      ],
      "text/plain": [
       "  transaction_date  online_order order_status           brand product_line  \\\n",
       "0       2017-02-25           0.0     Approved           Solex     Standard   \n",
       "1       2017-10-16           0.0     Approved  Giant Bicycles     Standard   \n",
       "2       2017-04-26           0.0     Approved           Solex     Standard   \n",
       "3       2017-05-21           1.0     Approved   Trek Bicycles     Standard   \n",
       "4       2017-10-05           0.0     Approved  Giant Bicycles     Standard   \n",
       "\n",
       "  product_class product_size  list_price  standard_cost  gender  ...  \\\n",
       "0        medium       medium       71.49          53.62    Male  ...   \n",
       "1        medium       medium     1403.50         954.82    Male  ...   \n",
       "2        medium       medium      478.16         298.72    Male  ...   \n",
       "3        medium        large     2091.47         388.92  Female  ...   \n",
       "4          high       medium     1129.13         677.48  Female  ...   \n",
       "\n",
       "   wealth_segment deceased_indicator owns_car tenure            address  \\\n",
       "0   Mass Customer                  N      Yes   10.0  984 Hoepker Court   \n",
       "1   Mass Customer                  N      Yes   10.0  984 Hoepker Court   \n",
       "2   Mass Customer                  N      Yes   10.0  984 Hoepker Court   \n",
       "3   Mass Customer                  N      Yes   10.0    4 Shopko Circle   \n",
       "4   Mass Customer                  N      Yes   10.0    4 Shopko Circle   \n",
       "\n",
       "  postcode  state    country  property_valuation   Age  \n",
       "0     3064    VIC  Australia                   6  65.0  \n",
       "1     3064    VIC  Australia                   6  65.0  \n",
       "2     3064    VIC  Australia                   6  65.0  \n",
       "3     2196    NSW  Australia                   5  41.0  \n",
       "4     2196    NSW  Australia                   5  41.0  \n",
       "\n",
       "[5 rows x 23 columns]"
      ]
     },
     "execution_count": 54,
     "metadata": {},
     "output_type": "execute_result"
    }
   ],
   "source": [
    "final_table.head()# Exploratory Data Analysis"
   ]
  },
  {
   "cell_type": "markdown",
   "metadata": {},
   "source": [
    "# Exploring the Data\n"
   ]
  },
  {
   "cell_type": "code",
   "execution_count": 55,
   "metadata": {},
   "outputs": [
    {
     "data": {
      "image/png": "[encoded data removed]",
      "text/plain": [
       "<Figure size 432x288 with 1 Axes>"
      ]
     },
     "metadata": {
      "needs_background": "light"
     },
     "output_type": "display_data"
    }
   ],
   "source": [
    "# See the distribution of gender to recognize different distributions\n",
    "sns.countplot(x='gender', data=final_table)\n",
    "plt.title('Distribution of Gender')\n",
    "plt.savefig('../output/distribution_gender.png')"
   ]
  },
  {
   "cell_type": "markdown",
   "metadata": {},
   "source": [
    "There are slightly more women than men in this data set. They will perhaps be a significant element in your customer segmentation efforts later."
   ]
  },
  {
   "cell_type": "code",
   "execution_count": 56,
   "metadata": {},
   "outputs": [
    {
     "data": {
      "image/png": "[encoded data removed]",
      "text/plain": [
       "<Figure size 432x288 with 1 Axes>"
      ]
     },
     "metadata": {
      "needs_background": "light"
     },
     "output_type": "display_data"
    }
   ],
   "source": [
    "# See the distribution of order through online or offline\n",
    "sns.countplot(x='online_order', data=final_table);\n",
    "plt.title('Distribution of order through online or offline');\n",
    "plt.savefig('../output/distribution_online_offline.png')"
   ]
  },
  {
   "cell_type": "markdown",
   "metadata": {},
   "source": [
    "So the customer uses both online_order and offline_order equally"
   ]
  },
  {
   "cell_type": "code",
   "execution_count": 57,
   "metadata": {},
   "outputs": [
    {
     "data": {
      "image/png": "[encoded data removed]",
      "text/plain": [
       "<Figure size 432x288 with 1 Axes>"
      ]
     },
     "metadata": {
      "needs_background": "light"
     },
     "output_type": "display_data"
    }
   ],
   "source": [
    "final_table.hist('Age', bins=35)\n",
    "plt.title('Distribution of Age')\n",
    "plt.xlabel('Age')\n",
    "plt.savefig('../output/distribution_age.png')"
   ]
  },
  {
   "cell_type": "markdown",
   "metadata": {},
   "source": [
    "There are lots of Customer whoes ages are mostly between 40 to 45"
   ]
  },
  {
   "cell_type": "code",
   "execution_count": 58,
   "metadata": {},
   "outputs": [
    {
     "data": {
      "image/png": "[encoded data removed]",
      "text/plain": [
       "<Figure size 432x288 with 1 Axes>"
      ]
     },
     "metadata": {
      "needs_background": "light"
     },
     "output_type": "display_data"
    }
   ],
   "source": [
    "plt.hist('Age', data=final_table[final_table['gender'] == 'Male'], alpha=0.5, label='Male')\n",
    "plt.hist('Age', data=final_table[final_table['gender'] == 'Female'], alpha=0.5, label='Female')\n",
    "plt.title('Distribution of Age by gender')\n",
    "plt.xlabel('Age')\n",
    "plt.legend()\n",
    "plt.savefig('../output/age_by_gender.png')"
   ]
  },
  {
   "cell_type": "markdown",
   "metadata": {},
   "source": [
    "There are a Men aged between 40 to 50 more than women aged between 40 to 50. "
   ]
  },
  {
   "cell_type": "code",
   "execution_count": 59,
   "metadata": {},
   "outputs": [
    {
     "name": "stdout",
     "output_type": "stream",
     "text": [
      "<class 'pandas.core.frame.DataFrame'>\n",
      "RangeIndex: 19333 entries, 0 to 19332\n",
      "Data columns (total 23 columns):\n",
      " #   Column                               Non-Null Count  Dtype  \n",
      "---  ------                               --------------  -----  \n",
      " 0   transaction_date                     19333 non-null  object \n",
      " 1   online_order                         19333 non-null  float64\n",
      " 2   order_status                         19333 non-null  object \n",
      " 3   brand                                19333 non-null  object \n",
      " 4   product_line                         19333 non-null  object \n",
      " 5   product_class                        19333 non-null  object \n",
      " 6   product_size                         19333 non-null  object \n",
      " 7   list_price                           19333 non-null  float64\n",
      " 8   standard_cost                        19333 non-null  float64\n",
      " 9   gender                               19333 non-null  object \n",
      " 10  past_3_years_bike_related_purchases  19333 non-null  int64  \n",
      " 11  job_title                            19333 non-null  object \n",
      " 12  job_industry_category                19333 non-null  object \n",
      " 13  wealth_segment                       19333 non-null  object \n",
      " 14  deceased_indicator                   19333 non-null  object \n",
      " 15  owns_car                             19333 non-null  object \n",
      " 16  tenure                               19333 non-null  float64\n",
      " 17  address                              19333 non-null  object \n",
      " 18  postcode                             19333 non-null  int64  \n",
      " 19  state                                19333 non-null  object \n",
      " 20  country                              19333 non-null  object \n",
      " 21  property_valuation                   19333 non-null  int64  \n",
      " 22  Age                                  19333 non-null  float64\n",
      "dtypes: float64(5), int64(3), object(15)\n",
      "memory usage: 3.4+ MB\n"
     ]
    }
   ],
   "source": [
    "final_table.info()"
   ]
  },
  {
   "cell_type": "code",
   "execution_count": 60,
   "metadata": {},
   "outputs": [
    {
     "data": {
      "text/plain": [
       "0        Software Engineer I\n",
       "1        Software Engineer I\n",
       "2        Software Engineer I\n",
       "3        Clinical Specialist\n",
       "4        Clinical Specialist\n",
       "                ...         \n",
       "19328      Chemical Engineer\n",
       "19329          Senior Editor\n",
       "19330          Senior Editor\n",
       "19331    Structural Engineer\n",
       "19332    Structural Engineer\n",
       "Name: job_title, Length: 19333, dtype: object"
      ]
     },
     "execution_count": 60,
     "metadata": {},
     "output_type": "execute_result"
    }
   ],
   "source": [
    "final_table['job_title']"
   ]
  },
  {
   "cell_type": "code",
   "execution_count": 61,
   "metadata": {},
   "outputs": [
    {
     "data": {
      "image/png": "[encoded data removed]",
      "text/plain": [
       "<Figure size 432x288 with 1 Axes>"
      ]
     },
     "metadata": {
      "needs_background": "light"
     },
     "output_type": "display_data"
    }
   ],
   "source": [
    "# Let's calculate the percentage of each industry status category.\n",
    "final_table.job_industry_category.value_counts(normalize=True)\n",
    "\n",
    "#plot the bar graph of percentage industry status category\n",
    "final_table.job_industry_category.value_counts(normalize=True).plot.barh()\n",
    "plt.savefig('../output/industry_status.png')\n",
    "plt.show()"
   ]
  },
  {
   "cell_type": "markdown",
   "metadata": {},
   "source": [
    "#### By the above bar plot, we can infer that most employees belongs to Manufacturing Industry than other industry"
   ]
  },
  {
   "cell_type": "code",
   "execution_count": 62,
   "metadata": {},
   "outputs": [
    {
     "data": {
      "text/plain": [
       "0                 Solex\n",
       "1        Giant Bicycles\n",
       "2                 Solex\n",
       "3         Trek Bicycles\n",
       "4        Giant Bicycles\n",
       "              ...      \n",
       "19328        OHM Cycles\n",
       "19329             Solex\n",
       "19330        OHM Cycles\n",
       "19331    Giant Bicycles\n",
       "19332        OHM Cycles\n",
       "Name: brand, Length: 19333, dtype: object"
      ]
     },
     "execution_count": 62,
     "metadata": {},
     "output_type": "execute_result"
    }
   ],
   "source": [
    "final_table['brand']"
   ]
  },
  {
   "cell_type": "code",
   "execution_count": 63,
   "metadata": {},
   "outputs": [
    {
     "data": {
      "image/png": "[encoded data removed]",
      "text/plain": [
       "<Figure size 432x288 with 1 Axes>"
      ]
     },
     "metadata": {},
     "output_type": "display_data"
    }
   ],
   "source": [
    "#calculate the percentage of each brand category.\n",
    "final_table.brand.value_counts(normalize=True)\n",
    "\n",
    "#plot the pie chart of brand categories\n",
    "final_table.brand.value_counts(normalize=True).plot.pie()\n",
    "plt.savefig('../output/brand_percentage.png')\n",
    "plt.show()"
   ]
  },
  {
   "cell_type": "markdown",
   "metadata": {},
   "source": [
    "We don't need to focus on specific bike to sell, we will equally sell them as seen in pie chart."
   ]
  },
  {
   "cell_type": "code",
   "execution_count": null,
   "metadata": {},
   "outputs": [],
   "source": []
  },
  {
   "cell_type": "code",
   "execution_count": null,
   "metadata": {},
   "outputs": [],
   "source": []
  }
 ],
 "metadata": {
  "kernelspec": {
   "display_name": "Python 3",
   "language": "python",
   "name": "python3"
  },
  "language_info": {
   "codemirror_mode": {
    "name": "ipython",
    "version": 3
   },
   "file_extension": ".py",
   "mimetype": "text/x-python",
   "name": "python",
   "nbconvert_exporter": "python",
   "pygments_lexer": "ipython3",
   "version": "3.7.7"
  }
 },
 "nbformat": 4,
 "nbformat_minor": 4
}
